{
 "cells": [
  {
   "cell_type": "raw",
   "metadata": {},
   "source": [
    "---\n",
    "title: Assignment 8 Design Thinking\n",
    "subtitle: Research Tools for Product Development\n",
    "date: 2021-12-04 00:00:00\n",
    "description: Project for study relationship between transaction of supermarket data.\n",
    "accent_color: '#4C60E6'\n",
    "\n",
    "---\n",
    "{% comment %}\n",
    "    {% raw %}"
   ]
  },
  {
   "cell_type": "code",
   "execution_count": 2,
   "metadata": {},
   "outputs": [
    {
     "name": "stdin",
     "output_type": "stream",
     "text": [
      "1 posts \n",
      "2 projects\n",
      " 2\n"
     ]
    },
    {
     "name": "stdout",
     "output_type": "stream",
     "text": [
      "[NbConvertApp] Converting notebook assignment8-main.ipynb to markdown\n",
      "[NbConvertApp] Writing 4988 bytes to assignment8-main.md\n"
     ]
    }
   ],
   "source": [
    "PROJECT_LINK = 'assignment8'\n",
    "PATH = '/Users/touchpadthamkul/zatoDev/project/bads_crm_final/master/BADS7105'\n",
    "\n",
    "\n",
    "# FRAMEWORK\n",
    "from IPython.display import Markdown as md\n",
    "from plotly.subplots import make_subplots\n",
    "import plotly.graph_objects as go\n",
    "import plotly.express as px\n",
    "import plotly.io as pio\n",
    "import datetime, pytz\n",
    "import numpy as np\n",
    "import os\n",
    "\n",
    "pio.renderers.default = 'colab'\n",
    "\n",
    "def getVariableNames(variable):\n",
    "    results = []\n",
    "    globalVariables=globals().copy()\n",
    "    for globalVariable in globalVariables:\n",
    "        if id(variable) == id(globalVariables[globalVariable]):\n",
    "            results.append(globalVariable)\n",
    "    return results\n",
    "\n",
    "def displayPlot(fig):\n",
    "    project_id = PROJECT_LINK.replace(' ','_')\n",
    "    fig_json = fig.to_json()\n",
    "    fig_name = str(datetime.datetime.now(tz=pytz.timezone('Asia/Bangkok')).date())+'-'+project_id+'_'+getVariableNames(fig)[0]\n",
    "    filename = fig_name+'.html'\n",
    "    if PATH != '':\n",
    "        save_path = PATH + '/_includes/post-figures/'\n",
    "    else:\n",
    "        save_path = ''\n",
    "    completeName = os.path.join(save_path, filename)\n",
    "    template = \"\"\"\n",
    "<html>\n",
    "    <head>\n",
    "        <script src=\"https://cdn.plot.ly/plotly-latest.min.js\"></script>\n",
    "    </head>\n",
    "    <body>\n",
    "        <div id='{1}'></div>\n",
    "        <script>\n",
    "            var plotly_data = {0};\n",
    "            let config = {{displayModeBar: false }};\n",
    "            Plotly.react('{1}', plotly_data.data, plotly_data.layout, config);\n",
    "        </script>\n",
    "    </body>\n",
    "</html>\n",
    "\"\"\"\n",
    "    # write the JSON to the HTML template\n",
    "    with open(completeName, 'w') as f:\n",
    "        f.write(template.format(fig_json, fig_name))\n",
    "    return md(\"{% include post-figures/\" + filename + \" full_width=true %}\")\n",
    "\n",
    "def displayImg(img_name):\n",
    "    master_name = str(datetime.datetime.now(tz=pytz.timezone('Asia/Bangkok')).date()) + '-' + PROJECT_LINK + '-' + img_name\n",
    "    !cp -frp $img_name $master_name\n",
    "    if PATH != '':     \n",
    "        img_path = PATH + '/images/projects'\n",
    "        !mv $master_name $img_path\n",
    "        output = md(\"![](/BADS7105/images/projects/\" + master_name +\")\")\n",
    "    else:\n",
    "        img_path = PATH\n",
    "        output = md(\"![](\"+master_name +\")\")\n",
    "    return output\n",
    "\n",
    "\n",
    "from selenium import webdriver\n",
    "from selenium.webdriver.support.ui import WebDriverWait\n",
    "from selenium.webdriver.support import expected_conditions as EC\n",
    "from selenium.webdriver.common.by import By\n",
    "from webdriver_manager.chrome import ChromeDriverManager\n",
    "\n",
    "def runBrowser(url):\n",
    "    url = 'https://zato.dev/blog/' + PROJECT_LINK\n",
    "    chrome_options = webdriver.ChromeOptions()\n",
    "    chrome_options.add_argument(\"window-size=375,812\")\n",
    "    # browser = webdriver.Chrome('/Users/touchpadthamkul/PySelenium/chromedriver', chrome_options=chrome_options)\n",
    "    browser = webdriver.Chrome(ChromeDriverManager().install(),chrome_options=chrome_options)\n",
    "    browser.get(url)\n",
    "\n",
    "    \n",
    "import ipynbname\n",
    "\n",
    "def saveExport():        \n",
    "    pynb_name = ipynbname.name() +'.ipynb'\n",
    "    md_name = ipynbname.name() +'.md'\n",
    "    if PATH != '':\n",
    "        selected = int(input('1 posts \\n2 projects\\n'))\n",
    "        if selected != 1:\n",
    "            folder = '/_projects'\n",
    "        else:\n",
    "            folder = '/_posts'\n",
    "        post_path = PATH + folder\n",
    "    else:\n",
    "        post_path = ''\n",
    "    master_name = str(datetime.datetime.now(tz=pytz.timezone('Asia/Bangkok')).date()) + '-' + PROJECT_LINK + '.md'\n",
    "    !jupyter nbconvert --to markdown $pynb_name\n",
    "    !mv $md_name $master_name\n",
    "    !mv $master_name $post_path\n",
    "\n",
    "saveExport()\n",
    "# runBrowser(url)"
   ]
  },
  {
   "cell_type": "raw",
   "metadata": {},
   "source": [
    "    {% endraw %}\n",
    "{% endcomment %}"
   ]
  },
  {
   "cell_type": "markdown",
   "metadata": {},
   "source": [
    "## Objective\n",
    "Design Thinking Process for Understanding Problem\n",
    "\n",
    "## Topic\n",
    "Online Learning"
   ]
  },
  {
   "cell_type": "markdown",
   "metadata": {},
   "source": [
    "## Empathize\n",
    "Name : K.Pan\n",
    "Profile : Accountant\n",
    "Life Style : Enjoy the moment. Love to explore new experience in weekend"
   ]
  },
  {
   "cell_type": "markdown",
   "metadata": {},
   "source": [
    "## Define"
   ]
  },
  {
   "cell_type": "markdown",
   "metadata": {},
   "source": [
    "### User Description:\n",
    "K.Pan is a gym boy. He has a very busy schedule be ause he has to manage his family and his university life.He feels Online Learning has effect his learning experience from interacting and sharing knowledge with others\n",
    "\n",
    "### User's Need:\n",
    "He Wants a way to increase engagement in classroom from online learning and sharing discussion for communicate with his friends in class\n",
    "\n",
    "### User's Insight\n",
    "He didn't find time to relax and want to talk with his friends sometimes. He want to maximize his gym boy and university life by doing it together.\n"
   ]
  },
  {
   "cell_type": "markdown",
   "metadata": {},
   "source": [
    "## Ideate\n",
    "- Classroom Community Webboard for Discussion\n",
    "- Group Tutor\n",
    "- Online Workshop\n",
    "- E - learning"
   ]
  },
  {
   "cell_type": "markdown",
   "metadata": {},
   "source": [
    "## Prototype"
   ]
  },
  {
   "cell_type": "markdown",
   "metadata": {},
   "source": [
    "### NIDA Metaverse"
   ]
  },
  {
   "cell_type": "markdown",
   "metadata": {},
   "source": [
    "## Test\n"
   ]
  },
  {
   "cell_type": "markdown",
   "metadata": {},
   "source": [
    "### Like\n",
    "- Opportunity to Learning and Sharing with his friends\n",
    "### Dislike\n",
    "- Still cannot meet friends face-to-face\n",
    "### Question\n",
    "- How to manage knowledge and record it for sharing to others in community"
   ]
  }
 ],
 "metadata": {
  "kernelspec": {
   "display_name": "Python 3",
   "language": "python",
   "name": "python3"
  },
  "language_info": {
   "codemirror_mode": {
    "name": "ipython",
    "version": 3
   },
   "file_extension": ".py",
   "mimetype": "text/x-python",
   "name": "python",
   "nbconvert_exporter": "python",
   "pygments_lexer": "ipython3",
   "version": "3.8.3"
  }
 },
 "nbformat": 4,
 "nbformat_minor": 4
}
