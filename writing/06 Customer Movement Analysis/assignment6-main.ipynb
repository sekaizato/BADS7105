{
 "cells": [
  {
   "cell_type": "raw",
   "metadata": {},
   "source": [
    "---\n",
    "title: Assignment 6 Customer Movement Analysis\n",
    "subtitle: Visualization of Churn Customer\n",
    "date: 2021-12-06 00:00:00\n",
    "description: Project for study relationship between transaction of supermarket data.\n",
    "accent_color: '#4C60E6'\n",
    "\n",
    "---\n",
    "{% comment %}\n",
    "    {% raw %}"
   ]
  },
  {
   "cell_type": "code",
   "execution_count": 6,
   "metadata": {},
   "outputs": [
    {
     "name": "stdin",
     "output_type": "stream",
     "text": [
      "1 posts \n",
      "2 projects\n",
      " 2\n"
     ]
    },
    {
     "name": "stdout",
     "output_type": "stream",
     "text": [
      "[NbConvertApp] Converting notebook assignment6-main.ipynb to markdown\n",
      "[NbConvertApp] Writing 6298 bytes to assignment6-main.md\n"
     ]
    }
   ],
   "source": [
    "PROJECT_LINK = 'assignment6'\n",
    "PATH = '/Users/touchpadthamkul/zatoDev/project/bads_crm_final/master/BADS7105'\n",
    "\n",
    "\n",
    "# FRAMEWORK\n",
    "from IPython.display import Markdown as md\n",
    "from plotly.subplots import make_subplots\n",
    "import plotly.graph_objects as go\n",
    "import plotly.express as px\n",
    "import plotly.io as pio\n",
    "import datetime, pytz\n",
    "import numpy as np\n",
    "import os\n",
    "\n",
    "pio.renderers.default = 'colab'\n",
    "\n",
    "def getVariableNames(variable):\n",
    "    results = []\n",
    "    globalVariables=globals().copy()\n",
    "    for globalVariable in globalVariables:\n",
    "        if id(variable) == id(globalVariables[globalVariable]):\n",
    "            results.append(globalVariable)\n",
    "    return results\n",
    "\n",
    "def displayPlot(fig):\n",
    "    project_id = PROJECT_LINK.replace(' ','_')\n",
    "    fig_json = fig.to_json()\n",
    "    fig_name = str(datetime.datetime.now(tz=pytz.timezone('Asia/Bangkok')).date())+'-'+project_id+'_'+getVariableNames(fig)[0]\n",
    "    filename = fig_name+'.html'\n",
    "    if PATH != '':\n",
    "        save_path = PATH + '/_includes/post-figures/'\n",
    "    else:\n",
    "        save_path = ''\n",
    "    completeName = os.path.join(save_path, filename)\n",
    "    template = \"\"\"\n",
    "<html>\n",
    "    <head>\n",
    "        <script src=\"https://cdn.plot.ly/plotly-latest.min.js\"></script>\n",
    "    </head>\n",
    "    <body>\n",
    "        <div id='{1}'></div>\n",
    "        <script>\n",
    "            var plotly_data = {0};\n",
    "            let config = {{displayModeBar: false }};\n",
    "            Plotly.react('{1}', plotly_data.data, plotly_data.layout, config);\n",
    "        </script>\n",
    "    </body>\n",
    "</html>\n",
    "\"\"\"\n",
    "    # write the JSON to the HTML template\n",
    "    with open(completeName, 'w') as f:\n",
    "        f.write(template.format(fig_json, fig_name))\n",
    "    return md(\"{% include post-figures/\" + filename + \" full_width=true %}\")\n",
    "\n",
    "def displayImg(img_name):\n",
    "    master_name = str(datetime.datetime.now(tz=pytz.timezone('Asia/Bangkok')).date()) + '-' + PROJECT_LINK + '-' + img_name\n",
    "    !cp -frp $img_name $master_name\n",
    "    if PATH != '':     \n",
    "        img_path = PATH + '/images/projects'\n",
    "        !mv $master_name $img_path\n",
    "        output = md(\"![](/BADS7105/images/projects/\" + master_name +\")\")\n",
    "    else:\n",
    "        img_path = PATH\n",
    "        output = md(\"![](\"+master_name +\")\")\n",
    "    return output\n",
    "\n",
    "\n",
    "from selenium import webdriver\n",
    "from selenium.webdriver.support.ui import WebDriverWait\n",
    "from selenium.webdriver.support import expected_conditions as EC\n",
    "from selenium.webdriver.common.by import By\n",
    "from webdriver_manager.chrome import ChromeDriverManager\n",
    "\n",
    "def runBrowser(url):\n",
    "    url = 'https://zato.dev/blog/' + PROJECT_LINK\n",
    "    chrome_options = webdriver.ChromeOptions()\n",
    "    chrome_options.add_argument(\"window-size=375,812\")\n",
    "    # browser = webdriver.Chrome('/Users/touchpadthamkul/PySelenium/chromedriver', chrome_options=chrome_options)\n",
    "    browser = webdriver.Chrome(ChromeDriverManager().install(),chrome_options=chrome_options)\n",
    "    browser.get(url)\n",
    "\n",
    "    \n",
    "import ipynbname\n",
    "\n",
    "def saveExport():        \n",
    "    pynb_name = ipynbname.name() +'.ipynb'\n",
    "    md_name = ipynbname.name() +'.md'\n",
    "    if PATH != '':\n",
    "        selected = int(input('1 posts \\n2 projects\\n'))\n",
    "        if selected != 1:\n",
    "            folder = '/_projects'\n",
    "        else:\n",
    "            folder = '/_posts'\n",
    "        post_path = PATH + folder\n",
    "    else:\n",
    "        post_path = ''\n",
    "    master_name = str(datetime.datetime.now(tz=pytz.timezone('Asia/Bangkok')).date()) + '-' + PROJECT_LINK + '.md'\n",
    "    !jupyter nbconvert --to markdown $pynb_name\n",
    "    !mv $md_name $master_name\n",
    "    !mv $master_name $post_path\n",
    "\n",
    "saveExport()\n",
    "# runBrowser(url)"
   ]
  },
  {
   "cell_type": "raw",
   "metadata": {},
   "source": [
    "    {% endraw %}\n",
    "{% endcomment %}"
   ]
  },
  {
   "cell_type": "markdown",
   "metadata": {},
   "source": [
    "## Objective\n",
    "Visualization for Churn Customer"
   ]
  },
  {
   "cell_type": "code",
   "execution_count": null,
   "metadata": {},
   "outputs": [],
   "source": [
    "WITH\n",
    "    yearmonthTable AS (\n",
    "        SELECT DISTINCT FORMAT_DATETIME(\"%Y-%m\", SHOP_DATE) AS year_month\n",
    "        FROM (SELECT PARSE_DATE('%Y%m%d', CAST(SHOP_DATE AS STRING)) AS SHOP_DATE\n",
    "        FROM `sekai420.bads.crm_supermarket_data`\n",
    "        WHERE CUST_CODE IS NOT NULL)\n",
    "        ),\n",
    "    customerIDTable AS (\n",
    "        SELECT DISTINCT CUST_CODE as customerID\n",
    "        FROM `sekai420.bads.crm_supermarket_data`\n",
    "        WHERE CUST_CODE IS NOT NULL\n",
    "        ),\n",
    "    mindateTable AS (\n",
    "        SELECT CUST_CODE, FORMAT_DATETIME(\"%Y-%m\", MIN(PARSE_DATE('%Y%m%d', CAST(SHOP_DATE AS STRING)))) AS startDate\n",
    "        FROM `sekai420.bads.crm_supermarket_data`\n",
    "        WHERE CUST_CODE IS NOT NULL\n",
    "        GROUP BY CUST_CODE\n",
    "    ),\n",
    "    crossTable AS (\n",
    "        SELECT * FROM yearmonthTable\n",
    "        CROSS JOIN customerIDTable\n",
    "    ),\n",
    "    customerTable AS (\n",
    "        SELECT crossTable.customerID as customerID, year_month, startDate FROM crossTable\n",
    "        LEFT JOIN mindateTable\n",
    "        ON crossTable.customerID = mindateTable.CUST_CODE\n",
    "    ),\n",
    "    checkTable AS (\n",
    "        SELECT DISTINCT FORMAT_DATETIME(\"%Y-%m\", PARSE_DATE('%Y%m%d', CAST(SHOP_DATE AS STRING))) AS year_month, CUST_CODE, 1 AS check\n",
    "        FROM `sekai420.bads.crm_supermarket_data`\n",
    "        WHERE CUST_CODE IS NOT NULL\n",
    "    ),\n",
    "    preTable AS (\n",
    "        SELECT customerTable.customerID, customerTable.year_month, customerTable.startDate, IFNULL(check, 0) as check\n",
    "        FROM customerTable\n",
    "        LEFT JOIN checkTable\n",
    "        ON (customerTable.customerID = checkTable.CUST_CODE) AND (customerTable.year_month = checkTable.year_month)\n",
    "    ),\n",
    "    cleanTable AS (\n",
    "        SELECT *, IFNULL(LAG(check) OVER (PARTITION BY customerID ORDER BY year_month), 0) AS previous\n",
    "        FROM preTable\n",
    "    ),\n",
    "    masterTable AS (\n",
    "        SELECT *, (CASE\n",
    "        WHEN startDate = year_month THEN \"New Customer\"\n",
    "        WHEN previous = 1 AND check = 1 THEN \"Repeat\"\n",
    "        WHEN previous = 0 AND check = 1 THEN \"Reactivated\"\n",
    "        WHEN previous = 1 AND check = 0 THEN \"Churn\"\n",
    "        -- WHEN previous = 0 AND check = 0 AND PARSE_DATE('%Y-%m', startDate) < PARSE_DATE('%Y-%m', year_month) THEN \"Churn\"\n",
    "        END) AS status,\n",
    "        PARSE_DATE('%Y-%m', year_month) AS ym,\n",
    "        PARSE_DATE('%Y-%m', startDate) AS sd\n",
    "        FROM cleanTable\n",
    "    )\n",
    "\n",
    "SELECT *, CASE WHEN status != \"Churn\" THEN 1 ELSE -1 END as val\n",
    "FROM masterTable\n",
    "WHERE status IS NOT NULL\n",
    "ORDER BY customerID"
   ]
  },
  {
   "cell_type": "code",
   "execution_count": 5,
   "metadata": {},
   "outputs": [
    {
     "data": {
      "text/markdown": [
       "![](/BADS7105/images/projects/2021-12-22-assignment6-churnchart.png)"
      ],
      "text/plain": [
       "<IPython.core.display.Markdown object>"
      ]
     },
     "execution_count": 5,
     "metadata": {},
     "output_type": "execute_result"
    }
   ],
   "source": [
    "displayImg(\"churnchart.png\")"
   ]
  }
 ],
 "metadata": {
  "kernelspec": {
   "display_name": "Python 3",
   "language": "python",
   "name": "python3"
  },
  "language_info": {
   "codemirror_mode": {
    "name": "ipython",
    "version": 3
   },
   "file_extension": ".py",
   "mimetype": "text/x-python",
   "name": "python",
   "nbconvert_exporter": "python",
   "pygments_lexer": "ipython3",
   "version": "3.8.3"
  }
 },
 "nbformat": 4,
 "nbformat_minor": 4
}
