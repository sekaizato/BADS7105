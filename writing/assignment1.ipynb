{
 "cells": [
  {
   "cell_type": "raw",
   "metadata": {},
   "source": [
    "---\n",
    "title: Assignment 1 : Customer Insights with Multidimensional Analysis\n",
    "subtitle: Multi Dimensional Dashboard for Supermarket\n",
    "date: 2021-12-04 00:00:00\n",
    "description: Project for analyze customer relationship management on supermarket by User Empathy Map.\n",
    "featured_image: demo.jpg\n",
    "accent_color: '#4C60E6'\n",
    "gallery_images:\n",
    "  - demo.jpg\n",
    "---\n",
    "{% comment %}\n",
    "    {% raw %}"
   ]
  },
  {
   "cell_type": "code",
   "execution_count": 1,
   "metadata": {},
   "outputs": [
    {
     "name": "stdout",
     "output_type": "stream",
     "text": [
      "/Users/touchpadthamkul/zatoDev/project/bads_crm_final/master/BADS7105/writing\n"
     ]
    }
   ],
   "source": [
    "!pwd"
   ]
  },
  {
   "cell_type": "code",
   "execution_count": 5,
   "metadata": {},
   "outputs": [
    {
     "ename": "FileNotFoundError",
     "evalue": "Can't identify the notebook name.",
     "output_type": "error",
     "traceback": [
      "\u001b[0;31m---------------------------------------------------------------------------\u001b[0m",
      "\u001b[0;31mFileNotFoundError\u001b[0m                         Traceback (most recent call last)",
      "\u001b[0;32m<ipython-input-5-dbd403efa259>\u001b[0m in \u001b[0;36m<module>\u001b[0;34m\u001b[0m\n\u001b[1;32m     99\u001b[0m     \u001b[0mget_ipython\u001b[0m\u001b[0;34m(\u001b[0m\u001b[0;34m)\u001b[0m\u001b[0;34m.\u001b[0m\u001b[0msystem\u001b[0m\u001b[0;34m(\u001b[0m\u001b[0;34m'mv $master_name $post_path'\u001b[0m\u001b[0;34m)\u001b[0m\u001b[0;34m\u001b[0m\u001b[0;34m\u001b[0m\u001b[0m\n\u001b[1;32m    100\u001b[0m \u001b[0;34m\u001b[0m\u001b[0m\n\u001b[0;32m--> 101\u001b[0;31m \u001b[0msaveExport\u001b[0m\u001b[0;34m(\u001b[0m\u001b[0;34m)\u001b[0m\u001b[0;34m\u001b[0m\u001b[0;34m\u001b[0m\u001b[0m\n\u001b[0m\u001b[1;32m    102\u001b[0m \u001b[0;31m# runBrowser(url)\u001b[0m\u001b[0;34m\u001b[0m\u001b[0;34m\u001b[0m\u001b[0;34m\u001b[0m\u001b[0m\n",
      "\u001b[0;32m<ipython-input-5-dbd403efa259>\u001b[0m in \u001b[0;36msaveExport\u001b[0;34m()\u001b[0m\n\u001b[1;32m     83\u001b[0m \u001b[0;34m\u001b[0m\u001b[0m\n\u001b[1;32m     84\u001b[0m \u001b[0;32mdef\u001b[0m \u001b[0msaveExport\u001b[0m\u001b[0;34m(\u001b[0m\u001b[0;34m)\u001b[0m\u001b[0;34m:\u001b[0m\u001b[0;34m\u001b[0m\u001b[0;34m\u001b[0m\u001b[0m\n\u001b[0;32m---> 85\u001b[0;31m     \u001b[0mpynb_name\u001b[0m \u001b[0;34m=\u001b[0m \u001b[0mipynbname\u001b[0m\u001b[0;34m.\u001b[0m\u001b[0mname\u001b[0m\u001b[0;34m(\u001b[0m\u001b[0;34m)\u001b[0m \u001b[0;34m+\u001b[0m\u001b[0;34m'.ipynb'\u001b[0m\u001b[0;34m\u001b[0m\u001b[0;34m\u001b[0m\u001b[0m\n\u001b[0m\u001b[1;32m     86\u001b[0m     \u001b[0mmd_name\u001b[0m \u001b[0;34m=\u001b[0m \u001b[0mipynbname\u001b[0m\u001b[0;34m.\u001b[0m\u001b[0mname\u001b[0m\u001b[0;34m(\u001b[0m\u001b[0;34m)\u001b[0m \u001b[0;34m+\u001b[0m\u001b[0;34m'.md'\u001b[0m\u001b[0;34m\u001b[0m\u001b[0;34m\u001b[0m\u001b[0m\n\u001b[1;32m     87\u001b[0m     \u001b[0;32mif\u001b[0m \u001b[0mPATH\u001b[0m \u001b[0;34m!=\u001b[0m \u001b[0;34m''\u001b[0m\u001b[0;34m:\u001b[0m\u001b[0;34m\u001b[0m\u001b[0;34m\u001b[0m\u001b[0m\n",
      "\u001b[0;32m/opt/anaconda3/envs/sekai/lib/python3.8/site-packages/ipynbname/__init__.py\u001b[0m in \u001b[0;36mname\u001b[0;34m()\u001b[0m\n\u001b[1;32m     80\u001b[0m     \u001b[0;32mif\u001b[0m \u001b[0mpath\u001b[0m\u001b[0;34m:\u001b[0m\u001b[0;34m\u001b[0m\u001b[0;34m\u001b[0m\u001b[0m\n\u001b[1;32m     81\u001b[0m         \u001b[0;32mreturn\u001b[0m \u001b[0mpath\u001b[0m\u001b[0;34m.\u001b[0m\u001b[0mstem\u001b[0m\u001b[0;34m\u001b[0m\u001b[0;34m\u001b[0m\u001b[0m\n\u001b[0;32m---> 82\u001b[0;31m     \u001b[0;32mraise\u001b[0m \u001b[0mFileNotFoundError\u001b[0m\u001b[0;34m(\u001b[0m\u001b[0mFILE_ERROR\u001b[0m\u001b[0;34m.\u001b[0m\u001b[0mformat\u001b[0m\u001b[0;34m(\u001b[0m\u001b[0;34m'name'\u001b[0m\u001b[0;34m)\u001b[0m\u001b[0;34m)\u001b[0m\u001b[0;34m\u001b[0m\u001b[0;34m\u001b[0m\u001b[0m\n\u001b[0m\u001b[1;32m     83\u001b[0m \u001b[0;34m\u001b[0m\u001b[0m\n\u001b[1;32m     84\u001b[0m \u001b[0;34m\u001b[0m\u001b[0m\n",
      "\u001b[0;31mFileNotFoundError\u001b[0m: Can't identify the notebook name."
     ]
    }
   ],
   "source": [
    "PROJECT_LINK = 'assignment1'\n",
    "PATH = '/Users/touchpadthamkul/zatoDev/project/bads_crm_final/master/BADS7105'\n",
    "\n",
    "\n",
    "# FRAMEWORK\n",
    "from IPython.display import Markdown as md\n",
    "from plotly.subplots import make_subplots\n",
    "import plotly.graph_objects as go\n",
    "import plotly.express as px\n",
    "import plotly.io as pio\n",
    "import datetime, pytz\n",
    "import numpy as np\n",
    "import os\n",
    "\n",
    "pio.renderers.default = 'colab'\n",
    "\n",
    "def getVariableNames(variable):\n",
    "    results = []\n",
    "    globalVariables=globals().copy()\n",
    "    for globalVariable in globalVariables:\n",
    "        if id(variable) == id(globalVariables[globalVariable]):\n",
    "            results.append(globalVariable)\n",
    "    return results\n",
    "\n",
    "def displayPlot(fig):\n",
    "    project_id = PROJECT_LINK.replace(' ','_')\n",
    "    fig_json = fig.to_json()\n",
    "    fig_name = str(datetime.datetime.now(tz=pytz.timezone('Asia/Bangkok')).date())+'-'+project_id+'_'+getVariableNames(fig)[0]\n",
    "    filename = fig_name+'.html'\n",
    "    if PATH != '':\n",
    "        save_path = PATH + '/_includes/post-figures/'\n",
    "    else:\n",
    "        save_path = ''\n",
    "    completeName = os.path.join(save_path, filename)\n",
    "    template = \"\"\"\n",
    "<html>\n",
    "    <head>\n",
    "        <script src=\"https://cdn.plot.ly/plotly-latest.min.js\"></script>\n",
    "    </head>\n",
    "    <body>\n",
    "        <div id='{1}'></div>\n",
    "        <script>\n",
    "            var plotly_data = {0};\n",
    "            let config = {{displayModeBar: false }};\n",
    "            Plotly.react('{1}', plotly_data.data, plotly_data.layout, config);\n",
    "        </script>\n",
    "    </body>\n",
    "</html>\n",
    "\"\"\"\n",
    "    # write the JSON to the HTML template\n",
    "    with open(completeName, 'w') as f:\n",
    "        f.write(template.format(fig_json, fig_name))\n",
    "    return md(\"{% include post-figures/\" + filename + \" full_width=true %}\")\n",
    "\n",
    "def displayImg(img_name):\n",
    "    master_name = str(datetime.datetime.now(tz=pytz.timezone('Asia/Bangkok')).date()) + '-' + PROJECT_LINK + '-' + img_name\n",
    "    !cp -frp $img_name $master_name\n",
    "    if PATH != '':     \n",
    "        img_path = PATH + '/images/projects'\n",
    "        !mv $master_name $img_path\n",
    "        output = md(\"![](/images/projects/\" + master_name +\")\")        \n",
    "    else:\n",
    "        img_path = PATH\n",
    "        output = md(\"![](\"+master_name +\")\")\n",
    "    return output\n",
    "\n",
    "from selenium import webdriver\n",
    "from selenium.webdriver.support.ui import WebDriverWait\n",
    "from selenium.webdriver.support import expected_conditions as EC\n",
    "from selenium.webdriver.common.by import By\n",
    "from webdriver_manager.chrome import ChromeDriverManager\n",
    "\n",
    "def runBrowser(url):\n",
    "    url = 'https://zato.dev/blog/' + PROJECT_LINK\n",
    "    chrome_options = webdriver.ChromeOptions()\n",
    "    chrome_options.add_argument(\"window-size=375,812\")\n",
    "    # browser = webdriver.Chrome('/Users/touchpadthamkul/PySelenium/chromedriver', chrome_options=chrome_options)\n",
    "    browser = webdriver.Chrome(ChromeDriverManager().install(),chrome_options=chrome_options)\n",
    "    browser.get(url)\n",
    "\n",
    "    \n",
    "import ipynbname\n",
    "\n",
    "def saveExport():        \n",
    "    pynb_name = ipynbname.name() +'.ipynb'\n",
    "    md_name = ipynbname.name() +'.md'\n",
    "    if PATH != '':\n",
    "        selected = int(input('1 posts \\n2 projects\\n'))\n",
    "        if selected != 1:\n",
    "            folder = '/_projects'\n",
    "        else:\n",
    "            folder = '/_posts'\n",
    "        post_path = PATH + folder\n",
    "    else:\n",
    "        post_path = ''\n",
    "    master_name = str(datetime.datetime.now(tz=pytz.timezone('Asia/Bangkok')).date()) + '-' + PROJECT_LINK + '.md'\n",
    "    !jupyter nbconvert --to markdown $pynb_name\n",
    "    !mv $md_name $master_name\n",
    "    !mv $master_name $post_path\n",
    "\n",
    "saveExport()\n",
    "# runBrowser(url)"
   ]
  },
  {
   "cell_type": "raw",
   "metadata": {},
   "source": [
    "    {% endraw %}\n",
    "{% endcomment %}"
   ]
  },
  {
   "cell_type": "markdown",
   "metadata": {},
   "source": [
    "##  Objective"
   ]
  },
  {
   "cell_type": "markdown",
   "metadata": {},
   "source": [
    "โปรเจคนี้จะทำการวิเคราะห์ข้อมูลของ Supermarket จากบริษัท Dunnhumby โดยผลลัพธ์สุดท้ายจะเป็นงาน Dashboard เพื่อตอบโจทย์การทำงานของ User ด้วย Framework User Empathy Map ( Problem-Reason-Action) <br>\n",
    "โจทย์นี้จะทำการออกแบบ Dashboard ให้กับพนักงานฝ่ายดูแลลูกค้า CRM โดยมีหน้าที่ได้รับมอบหมายคือการ ติดตามลูกค้าเก่าที่หายไป ดูแลจนกว่าจะกลับมาใช้ โดยมีเป้าที่ต้องทำให้ได้คือ Retention Rate จะต้องมากกว่า 30% <br>\n",
    "โดยเราจะใช้ข้อมูลจาก บริษัท Dunnhumby ซึ่งเป็น บริษัทที่ทำ analytics ให้กับ Tesco ทำด้านเกี่ยวกับ Customer Data Science (Dr.Thanachart Ritbumroong)"
   ]
  },
  {
   "cell_type": "markdown",
   "metadata": {},
   "source": [
    "## Problem-Reason-Action"
   ]
  },
  {
   "cell_type": "markdown",
   "metadata": {},
   "source": [
    "### Problem\n",
    "\n",
    "- ลูกค้าเริ่มไม่มาซื้อสินค้า\n",
    "\n",
    "### Reason\n",
    "\n",
    "- ความถี่การใช้งานเริ่มน้อยลง\n",
    "- ช่วงเวลาระยะห่างการมาซื้อสูงขึ้น\n",
    "- ลูกค้าสมาชิกมาซื้อห่างขึ้น\n",
    "\n",
    "### Action\n",
    "\n",
    "- ส่งโปรโมชั่นหาลูกค้าที่เป็นสมาชิกเริ่มไม่มา (นำสินค้าที่ขายดีมาแนะนำลูกค้าแบบ Personalized )"
   ]
  },
  {
   "cell_type": "markdown",
   "metadata": {},
   "source": [
    "## Data Understanding"
   ]
  },
  {
   "cell_type": "markdown",
   "metadata": {},
   "source": [
    "### Data Set Details\n",
    "\n",
    "- shop_week : Identifies the week of the basket\n",
    "- shop_date : Date when shopping has been made\n",
    "- shop_weekday : Identifies the day of the week\n",
    "- shop_hour : Hour slot of the shopping\n",
    "- Quantity : Number of items of the same product bought in this basket\n",
    "- spend : Spend associated to the items bought\n",
    "- prod_code : Product Code\n",
    "- prod_code_10 : Product Hierarchy Level 10 Code\n",
    "- prod_code_20 : Product Hierarchy Level 20 Code\n",
    "- prod_code_30 : Product Hierarchy Level 30 Code\n",
    "- prod_code_40 : Product Hierarchy Level 40 Code\n",
    "- cust_code : Customer Code\n",
    "- cust_price_sensitivity : Customer's Price Sensitivity\n",
    "- cust_lifestage : Customer's Lifestage\n",
    "- basket_id : Basket ID. All items in a basket share the same basket_id value.\n",
    "- basket_size : Basket size\n",
    "- basket_price_sensitivity : Basket price sensitivity\n",
    "- basket_type : Basket type\n",
    "- basket_dominant_mission : Shopping dominant mission\n",
    "- store_code : Store Code\n",
    "- store_format : Format of the Store\n",
    "- store_region : Region the store belongs to\n",
    "\n",
    "### Key Behavior\n",
    "\n",
    "- Visit Frequency\n",
    "- Spending Per Customer (CLV)\n",
    "- Meantime Between Purchases\n",
    "- Price sensitivity\n",
    "    - Basket Size\n",
    "- Propensity to Churn\n",
    "- Number of repeat vs New Customers\n",
    "\n",
    "### Dimensions\n",
    "\n",
    "- Store\n",
    "- Region\n",
    "- Time\n",
    "- Major Product\n",
    "- Member vs Non-member\n",
    "- Customer Life Stage\n",
    "- Product Category (Different Product)"
   ]
  }
 ],
 "metadata": {
  "kernelspec": {
   "display_name": "Python 3",
   "language": "python",
   "name": "python3"
  },
  "language_info": {
   "codemirror_mode": {
    "name": "ipython",
    "version": 3
   },
   "file_extension": ".py",
   "mimetype": "text/x-python",
   "name": "python",
   "nbconvert_exporter": "python",
   "pygments_lexer": "ipython3",
   "version": "3.8.3"
  }
 },
 "nbformat": 4,
 "nbformat_minor": 4
}
