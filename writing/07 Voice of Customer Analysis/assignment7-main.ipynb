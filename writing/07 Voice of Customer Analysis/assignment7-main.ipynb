{
 "cells": [
  {
   "cell_type": "raw",
   "metadata": {},
   "source": [
    "---\n",
    "title: Assignment 7 Voice of Customer\n",
    "subtitle: Up selling Analysis and Cstomer Response Model\n",
    "date: 2021-12-04 00:00:00\n",
    "description: Project for study relationship between transaction of supermarket data.\n",
    "featured_image: 2021-12-05-assignment2-assignment2-marketbasket.jpg\n",
    "accent_color: '#4C60E6'\n",
    "gallery_images:\n",
    "  - 2021-12-05-assignment1-assignment1-dashboard.jpg\n",
    "---\n",
    "{% comment %}\n",
    "    {% raw %}"
   ]
  },
  {
   "cell_type": "code",
   "execution_count": 2,
   "metadata": {},
   "outputs": [],
   "source": [
    "PROJECT_LINK = 'assignment7'\n",
    "PATH = '/Users/touchpadthamkul/zatoDev/project/bads_crm_final/master/BADS7105'\n",
    "\n",
    "\n",
    "# FRAMEWORK\n",
    "from IPython.display import Markdown as md\n",
    "from plotly.subplots import make_subplots\n",
    "import plotly.graph_objects as go\n",
    "import plotly.express as px\n",
    "import plotly.io as pio\n",
    "import datetime, pytz\n",
    "import numpy as np\n",
    "import os\n",
    "\n",
    "pio.renderers.default = 'colab'\n",
    "\n",
    "def getVariableNames(variable):\n",
    "    results = []\n",
    "    globalVariables=globals().copy()\n",
    "    for globalVariable in globalVariables:\n",
    "        if id(variable) == id(globalVariables[globalVariable]):\n",
    "            results.append(globalVariable)\n",
    "    return results\n",
    "\n",
    "def displayPlot(fig):\n",
    "    project_id = PROJECT_LINK.replace(' ','_')\n",
    "    fig_json = fig.to_json()\n",
    "    fig_name = str(datetime.datetime.now(tz=pytz.timezone('Asia/Bangkok')).date())+'-'+project_id+'_'+getVariableNames(fig)[0]\n",
    "    filename = fig_name+'.html'\n",
    "    if PATH != '':\n",
    "        save_path = PATH + '/_includes/post-figures/'\n",
    "    else:\n",
    "        save_path = ''\n",
    "    completeName = os.path.join(save_path, filename)\n",
    "    template = \"\"\"\n",
    "<html>\n",
    "    <head>\n",
    "        <script src=\"https://cdn.plot.ly/plotly-latest.min.js\"></script>\n",
    "    </head>\n",
    "    <body>\n",
    "        <div id='{1}'></div>\n",
    "        <script>\n",
    "            var plotly_data = {0};\n",
    "            let config = {{displayModeBar: false }};\n",
    "            Plotly.react('{1}', plotly_data.data, plotly_data.layout, config);\n",
    "        </script>\n",
    "    </body>\n",
    "</html>\n",
    "\"\"\"\n",
    "    # write the JSON to the HTML template\n",
    "    with open(completeName, 'w') as f:\n",
    "        f.write(template.format(fig_json, fig_name))\n",
    "    return md(\"{% include post-figures/\" + filename + \" full_width=true %}\")\n",
    "\n",
    "def displayImg(img_name):\n",
    "    master_name = str(datetime.datetime.now(tz=pytz.timezone('Asia/Bangkok')).date()) + '-' + PROJECT_LINK + '-' + img_name\n",
    "    !cp -frp $img_name $master_name\n",
    "    if PATH != '':     \n",
    "        img_path = PATH + '/images/projects'\n",
    "        !mv $master_name $img_path\n",
    "        output = md(\"![](/BADS7105/images/projects/\" + master_name +\")\")\n",
    "    else:\n",
    "        img_path = PATH\n",
    "        output = md(\"![](\"+master_name +\")\")\n",
    "    return output\n",
    "\n",
    "\n",
    "from selenium import webdriver\n",
    "from selenium.webdriver.support.ui import WebDriverWait\n",
    "from selenium.webdriver.support import expected_conditions as EC\n",
    "from selenium.webdriver.common.by import By\n",
    "from webdriver_manager.chrome import ChromeDriverManager\n",
    "\n",
    "def runBrowser(url):\n",
    "    url = 'https://zato.dev/blog/' + PROJECT_LINK\n",
    "    chrome_options = webdriver.ChromeOptions()\n",
    "    chrome_options.add_argument(\"window-size=375,812\")\n",
    "    # browser = webdriver.Chrome('/Users/touchpadthamkul/PySelenium/chromedriver', chrome_options=chrome_options)\n",
    "    browser = webdriver.Chrome(ChromeDriverManager().install(),chrome_options=chrome_options)\n",
    "    browser.get(url)\n",
    "\n",
    "    \n",
    "import ipynbname\n",
    "\n",
    "def saveExport():        \n",
    "    pynb_name = ipynbname.name() +'.ipynb'\n",
    "    md_name = ipynbname.name() +'.md'\n",
    "    if PATH != '':\n",
    "        selected = int(input('1 posts \\n2 projects\\n'))\n",
    "        if selected != 1:\n",
    "            folder = '/_projects'\n",
    "        else:\n",
    "            folder = '/_posts'\n",
    "        post_path = PATH + folder\n",
    "    else:\n",
    "        post_path = ''\n",
    "    master_name = str(datetime.datetime.now(tz=pytz.timezone('Asia/Bangkok')).date()) + '-' + PROJECT_LINK + '.md'\n",
    "    !jupyter nbconvert --to markdown $pynb_name\n",
    "    !mv $md_name $master_name\n",
    "    !mv $master_name $post_path\n",
    "\n",
    "# saveExport()\n",
    "# runBrowser(url)"
   ]
  },
  {
   "cell_type": "raw",
   "metadata": {},
   "source": [
    "    {% endraw %}\n",
    "{% endcomment %}"
   ]
  },
  {
   "cell_type": "code",
   "execution_count": 111,
   "metadata": {},
   "outputs": [],
   "source": [
    "import numpy as np\n",
    "import pandas as pd\n",
    "import re\n",
    "\n",
    "import tensorflow as tf\n",
    "import tensorflow_hub as hub\n",
    "import tensorflow_text\n",
    "import umap\n",
    "\n",
    "from sklearn.cluster import KMeans\n",
    "import matplotlib.pyplot as plt\n",
    "\n",
    "from sklearn.cluster import AgglomerativeClustering\n",
    "from sklearn.neighbors import kneighbors_graph\n",
    "\n",
    "import pythainlp\n",
    "from pythainlp.corpus.common import thai_words\n",
    "from pythainlp.util import Trie\n",
    "import collections\n"
   ]
  },
  {
   "cell_type": "markdown",
   "metadata": {},
   "source": [
    "ก่อนจะสร้างโมเดล Natural Language Processing (NLP) ต้องทำ Text Embedding เพื่อแปลงจากตัวอักษร เป็นตัวเลข เพื่อให้คอมพิวเตอร์เข้าใจภาษามนุย์ โดยเราจะทำการใช้ Google's Universal Sentence Encoder เพื่อใช้ฟังก์ชันเปลี่ยนตัวอักษรเป็นตัวเลข"
   ]
  },
  {
   "cell_type": "code",
   "execution_count": 112,
   "metadata": {},
   "outputs": [],
   "source": [
    "module_url = 'https://tfhub.dev/google/universal-sentence-encoder-multilingual/3' #'https://tfhub.dev/google/universal-sentence-encoder-multilingual/3' for a large model\n",
    "\n",
    "model = hub.load(module_url)"
   ]
  },
  {
   "cell_type": "markdown",
   "metadata": {},
   "source": [
    "ดึงข้อมูลรีวิวจาก Wongnai ทั้งหมดทั้งหมด 300 รีวิว"
   ]
  },
  {
   "cell_type": "code",
   "execution_count": 113,
   "metadata": {},
   "outputs": [
    {
     "data": {
      "text/html": [
       "<div>\n",
       "<style scoped>\n",
       "    .dataframe tbody tr th:only-of-type {\n",
       "        vertical-align: middle;\n",
       "    }\n",
       "\n",
       "    .dataframe tbody tr th {\n",
       "        vertical-align: top;\n",
       "    }\n",
       "\n",
       "    .dataframe thead th {\n",
       "        text-align: right;\n",
       "    }\n",
       "</style>\n",
       "<table border=\"1\" class=\"dataframe\">\n",
       "  <thead>\n",
       "    <tr style=\"text-align: right;\">\n",
       "      <th></th>\n",
       "      <th>Review ID</th>\n",
       "      <th>Review</th>\n",
       "    </tr>\n",
       "  </thead>\n",
       "  <tbody>\n",
       "    <tr>\n",
       "      <th>0</th>\n",
       "      <td>1</td>\n",
       "      <td>เป็นคนที่ชอบทาน Macchiato เป็นประจำ มีวันนึงเด...</td>\n",
       "    </tr>\n",
       "    <tr>\n",
       "      <th>1</th>\n",
       "      <td>2</td>\n",
       "      <td>Art of Coffee Kasetsart เป็นร้านกาแฟรสชาติเยี่...</td>\n",
       "    </tr>\n",
       "    <tr>\n",
       "      <th>2</th>\n",
       "      <td>3</td>\n",
       "      <td>กวงทะเลเผา อาหารทะเลเค้าสดจริงๆเนื้อปูหวานไม่ค...</td>\n",
       "    </tr>\n",
       "    <tr>\n",
       "      <th>3</th>\n",
       "      <td>4</td>\n",
       "      <td>วันนี้มีโอกาสตื่นเช้าครับเลยถึงโอกาสออกมาหาอะไ...</td>\n",
       "    </tr>\n",
       "    <tr>\n",
       "      <th>4</th>\n",
       "      <td>5</td>\n",
       "      <td>ชอบมาทานร้านนี้ถ้าอยากกินอาหารเวียดนามใกล้บ้าน...</td>\n",
       "    </tr>\n",
       "  </tbody>\n",
       "</table>\n",
       "</div>"
      ],
      "text/plain": [
       "   Review ID                                             Review\n",
       "0          1  เป็นคนที่ชอบทาน Macchiato เป็นประจำ มีวันนึงเด...\n",
       "1          2  Art of Coffee Kasetsart เป็นร้านกาแฟรสชาติเยี่...\n",
       "2          3  กวงทะเลเผา อาหารทะเลเค้าสดจริงๆเนื้อปูหวานไม่ค...\n",
       "3          4  วันนี้มีโอกาสตื่นเช้าครับเลยถึงโอกาสออกมาหาอะไ...\n",
       "4          5  ชอบมาทานร้านนี้ถ้าอยากกินอาหารเวียดนามใกล้บ้าน..."
      ]
     },
     "execution_count": 113,
     "metadata": {},
     "output_type": "execute_result"
    }
   ],
   "source": [
    "df = pd.read_csv('Wongnai Reviews - Small.csv')\n",
    "df.head()"
   ]
  },
  {
   "cell_type": "code",
   "execution_count": 114,
   "metadata": {},
   "outputs": [
    {
     "name": "stdout",
     "output_type": "stream",
     "text": [
      "<class 'pandas.core.frame.DataFrame'>\n",
      "RangeIndex: 300 entries, 0 to 299\n",
      "Data columns (total 2 columns):\n",
      " #   Column     Non-Null Count  Dtype \n",
      "---  ------     --------------  ----- \n",
      " 0   Review ID  300 non-null    int64 \n",
      " 1   Review     300 non-null    object\n",
      "dtypes: int64(1), object(1)\n",
      "memory usage: 4.8+ KB\n"
     ]
    }
   ],
   "source": [
    "df.info()"
   ]
  },
  {
   "cell_type": "markdown",
   "metadata": {},
   "source": [
    "### Step1 - document embedding and dimension reduction"
   ]
  },
  {
   "cell_type": "code",
   "execution_count": 115,
   "metadata": {},
   "outputs": [
    {
     "data": {
      "text/plain": [
       "array([[4.38797  , 7.3366637, 4.3473525, ..., 5.737648 , 4.4198318,\n",
       "        5.942006 ],\n",
       "       [4.5256295, 7.3365474, 4.4462757, ..., 5.623406 , 4.375579 ,\n",
       "        5.9466367],\n",
       "       [5.2760754, 6.866459 , 3.9091702, ..., 5.8130536, 4.945471 ,\n",
       "        5.4968505],\n",
       "       ...,\n",
       "       [4.4710193, 6.991462 , 4.4716787, ..., 5.644046 , 4.444365 ,\n",
       "        5.9356337],\n",
       "       [4.4344482, 7.070292 , 4.534156 , ..., 5.6133623, 4.41475  ,\n",
       "        5.9124784],\n",
       "       [4.376653 , 7.1932964, 4.4902244, ..., 5.676849 , 4.370813 ,\n",
       "        5.965906 ]], dtype=float32)"
      ]
     },
     "execution_count": 115,
     "metadata": {},
     "output_type": "execute_result"
    }
   ],
   "source": [
    "#embed sentences using Universal Sentence Encoder (USE)\n",
    "#reduce array dimensions using umap (you can chagne n_components)\n",
    "\n",
    "embed_comments_array = model(df['Review'].values).numpy()\n",
    "reducer = umap.UMAP(random_state=42,n_components=50)\n",
    "umap_embed_comments_array = reducer.fit_transform(embed_comments_array)\n",
    "\n",
    "umap_embed_comments_array"
   ]
  },
  {
   "cell_type": "markdown",
   "metadata": {},
   "source": [
    "### Step 2 - document clustering using KMeans"
   ]
  },
  {
   "cell_type": "code",
   "execution_count": 116,
   "metadata": {},
   "outputs": [
    {
     "data": {
      "text/plain": [
       "Text(0, 0.5, 'WCSS')"
      ]
     },
     "execution_count": 116,
     "metadata": {},
     "output_type": "execute_result"
    },
    {
     "data": {
      "image/png": "[encoded data removed]",
      "text/plain": [
       "<Figure size 432x288 with 1 Axes>"
      ]
     },
     "metadata": {
      "needs_background": "light"
     },
     "output_type": "display_data"
    }
   ],
   "source": [
    "#run kmeans with various number of k. evaluate no. of k based on the elbow plot\n",
    "\n",
    "wcss=[]\n",
    "max_k = 10\n",
    "for i in range(1, max_k):\n",
    "  kmeans = KMeans(i)\n",
    "  kmeans.fit(umap_embed_comments_array)\n",
    "  wcss_iter = kmeans.inertia_\n",
    "  wcss.append(wcss_iter)\n",
    "\n",
    "number_clusters = range(1, max_k)\n",
    "plt.plot(number_clusters,wcss)\n",
    "plt.title('The Elbow title')\n",
    "plt.xlabel('Number of clusters')\n",
    "plt.ylabel('WCSS')"
   ]
  },
  {
   "cell_type": "code",
   "execution_count": 117,
   "metadata": {},
   "outputs": [
    {
     "data": {
      "text/html": [
       "<div>\n",
       "<style scoped>\n",
       "    .dataframe tbody tr th:only-of-type {\n",
       "        vertical-align: middle;\n",
       "    }\n",
       "\n",
       "    .dataframe tbody tr th {\n",
       "        vertical-align: top;\n",
       "    }\n",
       "\n",
       "    .dataframe thead th {\n",
       "        text-align: right;\n",
       "    }\n",
       "</style>\n",
       "<table border=\"1\" class=\"dataframe\">\n",
       "  <thead>\n",
       "    <tr style=\"text-align: right;\">\n",
       "      <th></th>\n",
       "      <th>KMeans ID</th>\n",
       "      <th>texts</th>\n",
       "    </tr>\n",
       "  </thead>\n",
       "  <tbody>\n",
       "    <tr>\n",
       "      <th>0</th>\n",
       "      <td>0</td>\n",
       "      <td>13     เคยเป็นไหมกันไหมคะ หลังอาหารมื้อใหญ่ ต่...</td>\n",
       "    </tr>\n",
       "    <tr>\n",
       "      <th>1</th>\n",
       "      <td>1</td>\n",
       "      <td>2      กวงทะเลเผา อาหารทะเลเค้าสดจริงๆเนื้อปูห...</td>\n",
       "    </tr>\n",
       "    <tr>\n",
       "      <th>2</th>\n",
       "      <td>2</td>\n",
       "      <td>0      เป็นคนที่ชอบทาน Macchiato เป็นประจำ มีว...</td>\n",
       "    </tr>\n",
       "  </tbody>\n",
       "</table>\n",
       "</div>"
      ],
      "text/plain": [
       "  KMeans ID                                              texts\n",
       "0         0  13     เคยเป็นไหมกันไหมคะ หลังอาหารมื้อใหญ่ ต่...\n",
       "1         1  2      กวงทะเลเผา อาหารทะเลเค้าสดจริงๆเนื้อปูห...\n",
       "2         2  0      เป็นคนที่ชอบทาน Macchiato เป็นประจำ มีว..."
      ]
     },
     "execution_count": 117,
     "metadata": {},
     "output_type": "execute_result"
    }
   ],
   "source": [
    "#run kmeans with no. of clusters you see fit the most\n",
    "\n",
    "k = 3\n",
    "\n",
    "kmeans = KMeans(n_clusters = k)\n",
    "kmeans.fit(umap_embed_comments_array)\n",
    "\n",
    "df['KMeans ID'] = kmeans.labels_\n",
    "\n",
    "#merge all reviews of each cluster into one big sentence \n",
    "\n",
    "df_kmeans = pd.DataFrame(columns=[\"KMeans ID\", \"texts\"])\n",
    "\n",
    "\n",
    "for i in range(0, k):\n",
    "  row = []\n",
    "  row.append(i)\n",
    "  row.append(df['Review'][df['KMeans ID'] == i].to_string())\n",
    "  df_kmeans.loc[len(df_kmeans)] = row\n",
    "    \n",
    "df_kmeans"
   ]
  },
  {
   "cell_type": "markdown",
   "metadata": {},
   "source": [
    "สร้างคำ และแพทเทิร์นที่ต้องการยกเว้น"
   ]
  },
  {
   "cell_type": "code",
   "execution_count": 118,
   "metadata": {},
   "outputs": [],
   "source": [
    "#create regex compiler for removal of a character you don't want\n",
    "\n",
    "special_characters = \"/[!@#$%^&*']/g\"\n",
    "specialchar_pattern = re.compile(special_characters)\n",
    "\n",
    "#create regex compiler for removal of any emoji\n",
    "\n",
    "emoji_pattern = re.compile(\"[\"\n",
    "        u\"\\U0001F600-\\U0001F64F\"  # emoticons\n",
    "        u\"\\U0001F300-\\U0001F5FF\"  # symbols & pictographs\n",
    "        u\"\\U0001F680-\\U0001F6FF\"  # transport & map symbols\n",
    "        u\"\\U0001F1E0-\\U0001F1FF\"  # flags (iOS)\n",
    "                           \"]+\", flags=re.UNICODE)\n",
    "\n",
    "#create regex compiler for removal of digit\n",
    "\n",
    "number_pattern = re.compile(\"[0-9]\")\n",
    "\n",
    "#create regex compiler for removal of white space\n",
    "\n",
    "space_pattern = re.compile(\"\\s+\")\n",
    "\n",
    "#create regex compiler for removal of .\n",
    "\n",
    "dot_pattern = re.compile(r\"\\.+\")\n",
    "\n",
    "#create regex compiler for removal of \\\n",
    "\n",
    "backslash_pattern = re.compile(r\"\\\\+\")"
   ]
  },
  {
   "cell_type": "code",
   "execution_count": 119,
   "metadata": {},
   "outputs": [],
   "source": [
    "#define a function to tokenize a sentence into words - you can define words you want to remove as well as new words for tokenization\n",
    "\n",
    "stopwords = list(pythainlp.corpus.thai_stopwords())\n",
    "removed_words = ['u', 'b', 'n', 'nn', 'nn-', '\\n', 'ร้าน', 'ทาน', 'กิน']\n",
    "screening_words = stopwords + removed_words\n",
    "\n",
    "new_words = {\"สตารบัก\"}\n",
    "\n",
    "words = new_words.union(thai_words())\n",
    "\n",
    "custom_dictionary_trie = Trie(words)\n",
    "\n",
    "def tokenize_to_list(sentence):\n",
    "  merged = []\n",
    "  words = pythainlp.word_tokenize(str(sentence), engine='newmm', custom_dict=custom_dictionary_trie)\n",
    "  for word in words:\n",
    "    if word not in screening_words:\n",
    "      merged.append(word)\n",
    "  return merged"
   ]
  },
  {
   "cell_type": "code",
   "execution_count": 120,
   "metadata": {},
   "outputs": [],
   "source": [
    "#clean and tokenize sentences. count the occurences of each word\n",
    "\n",
    "df_kmeans['texts'] = df_kmeans['texts'].apply(lambda x: emoji_pattern.sub(r'', x))\n",
    "df_kmeans['texts'] = df_kmeans['texts'].apply(lambda x: specialchar_pattern.sub(r'', x))\n",
    "df_kmeans['texts'] = df_kmeans['texts'].apply(lambda x: number_pattern.sub(r'', x))\n",
    "df_kmeans['texts'] = df_kmeans['texts'].apply(lambda x: space_pattern.sub(r'', x))\n",
    "df_kmeans['texts'] = df_kmeans['texts'].apply(lambda x: dot_pattern.sub(r'', x))\n",
    "df_kmeans['texts'] = df_kmeans['texts'].apply(lambda x: backslash_pattern.sub(r'', x))\n",
    "df_kmeans['texts_tokenized'] = df_kmeans['texts'].apply(lambda x: tokenize_to_list(x))\n",
    "df_kmeans['texts_count'] = df_kmeans['texts_tokenized'].apply(lambda x: collections.Counter(x).most_common())"
   ]
  },
  {
   "cell_type": "code",
   "execution_count": 121,
   "metadata": {},
   "outputs": [
    {
     "data": {
      "text/html": [
       "<div>\n",
       "<style scoped>\n",
       "    .dataframe tbody tr th:only-of-type {\n",
       "        vertical-align: middle;\n",
       "    }\n",
       "\n",
       "    .dataframe tbody tr th {\n",
       "        vertical-align: top;\n",
       "    }\n",
       "\n",
       "    .dataframe thead th {\n",
       "        text-align: right;\n",
       "    }\n",
       "</style>\n",
       "<table border=\"1\" class=\"dataframe\">\n",
       "  <thead>\n",
       "    <tr style=\"text-align: right;\">\n",
       "      <th></th>\n",
       "      <th>KMeans ID</th>\n",
       "      <th>texts</th>\n",
       "      <th>texts_tokenized</th>\n",
       "      <th>texts_count</th>\n",
       "    </tr>\n",
       "  </thead>\n",
       "  <tbody>\n",
       "    <tr>\n",
       "      <th>0</th>\n",
       "      <td>0</td>\n",
       "      <td>เคยเป็นไหมกันไหมคะหลังอาหารมื้อใหญ่ต่อให้อิ่เช...</td>\n",
       "      <td>[ไหม, ไหม, หลังอาหาร, มื้อ, ต่อให้, อิ่, เช้า,...</td>\n",
       "      <td>[(ชา, 18), (นม, 14), (ไข่มุก, 14), (เครื่องดื่...</td>\n",
       "    </tr>\n",
       "    <tr>\n",
       "      <th>1</th>\n",
       "      <td>1</td>\n",
       "      <td>กวงทะเลเผาอาหารทะเลเค้าสดจริงๆเนื้อปูหวานไม่คว...</td>\n",
       "      <td>[กวง, ทะเล, เผา, อาหารทะเล, เค้า, สด, เนื้อ, ป...</td>\n",
       "      <td>[(ร้านอาหาร, 14), (อร่อย, 11), (กก, 10), (อาหา...</td>\n",
       "    </tr>\n",
       "    <tr>\n",
       "      <th>2</th>\n",
       "      <td>2</td>\n",
       "      <td>เป็นคนที่ชอบทานMacchiatoเป็นประจำมีวันนึงเดArt...</td>\n",
       "      <td>[คน, ชอบ, Macchiato, เป็นประจำ, นึง, เด, Artof...</td>\n",
       "      <td>[(ร้านกาแฟ, 26), (กาแฟ, 23), (ชอบ, 11), (คาเฟ่...</td>\n",
       "    </tr>\n",
       "  </tbody>\n",
       "</table>\n",
       "</div>"
      ],
      "text/plain": [
       "  KMeans ID                                              texts  \\\n",
       "0         0  เคยเป็นไหมกันไหมคะหลังอาหารมื้อใหญ่ต่อให้อิ่เช...   \n",
       "1         1  กวงทะเลเผาอาหารทะเลเค้าสดจริงๆเนื้อปูหวานไม่คว...   \n",
       "2         2  เป็นคนที่ชอบทานMacchiatoเป็นประจำมีวันนึงเดArt...   \n",
       "\n",
       "                                     texts_tokenized  \\\n",
       "0  [ไหม, ไหม, หลังอาหาร, มื้อ, ต่อให้, อิ่, เช้า,...   \n",
       "1  [กวง, ทะเล, เผา, อาหารทะเล, เค้า, สด, เนื้อ, ป...   \n",
       "2  [คน, ชอบ, Macchiato, เป็นประจำ, นึง, เด, Artof...   \n",
       "\n",
       "                                         texts_count  \n",
       "0  [(ชา, 18), (นม, 14), (ไข่มุก, 14), (เครื่องดื่...  \n",
       "1  [(ร้านอาหาร, 14), (อร่อย, 11), (กก, 10), (อาหา...  \n",
       "2  [(ร้านกาแฟ, 26), (กาแฟ, 23), (ชอบ, 11), (คาเฟ่...  "
      ]
     },
     "execution_count": 121,
     "metadata": {},
     "output_type": "execute_result"
    }
   ],
   "source": [
    "#results of tokenization\n",
    "\n",
    "df_kmeans"
   ]
  },
  {
   "cell_type": "code",
   "execution_count": 124,
   "metadata": {},
   "outputs": [
    {
     "name": "stdout",
     "output_type": "stream",
     "text": [
      "Cluster ID : 0\n",
      "\n",
      "Most common words include : [('ชา', 18), ('นม', 14), ('ไข่มุก', 14), ('เครื่องดื่ม', 4), ('ร้า', 3), ('น้ำ', 3), ('ตั้งอยู่', 3), ('ลอง', 3), ('เดิน', 3), ('ปั่น', 3)]\n",
      "\n",
      "Cluster ID : 1\n",
      "\n",
      "Most common words include : [('ร้านอาหาร', 14), ('อร่อย', 11), ('กก', 10), ('อาหาร', 9), ('รีวิว', 7), ('บ้าน', 6), ('ส้มตำ', 6), ('ซอย', 6), ('สาขา', 6), ('เพื่อน', 5)]\n",
      "\n",
      "Cluster ID : 2\n",
      "\n",
      "Most common words include : [('ร้านกาแฟ', 26), ('กาแฟ', 23), ('ชอบ', 11), ('คาเฟ่', 6), ('น', 6), ('รีวิว', 6), ('แวะ', 6), ('ดี', 6), ('รี่', 5), ('อร่อย', 5)]\n",
      "\n"
     ]
    }
   ],
   "source": [
    "#show top keywords of each cluster\n",
    "\n",
    "top_N_words = 10\n",
    "\n",
    "for i in range(0, len(df_kmeans)):\n",
    "  print(f\"Cluster ID : {i}\\n\")\n",
    "  print(f\"Most common words include : {list(df_kmeans['texts_count'][i])[:top_N_words]}\\n\")\n",
    "\n",
    "#tune a model by remove unwanted characters and words and add more words to a custom dictionary"
   ]
  },
  {
   "cell_type": "markdown",
   "metadata": {},
   "source": [
    "## Step 3 - Result Discussion"
   ]
  },
  {
   "cell_type": "markdown",
   "metadata": {},
   "source": [
    "### Cluster 0 : ร้านกาแฟ และ คาเฟ่\n",
    "คำใกล้เคียง :\n",
    "-  ('ร้านกาแฟ', 25)\n",
    "-  ('กาแฟ', 23)\n",
    "-  ('ชอบ', 11)\n",
    "-  ('คาเฟ่', 6)\n",
    "-  ('น', 6)\n",
    "-  ('แวะ', 6)\n",
    "-  ('ดี', 6)\n",
    "-  ('รี่', 5)\n",
    "-  ('อร่อย', 5)\n",
    "-  ('น่ารัก', 5)"
   ]
  },
  {
   "cell_type": "code",
   "execution_count": 123,
   "metadata": {},
   "outputs": [
    {
     "data": {
      "text/plain": [
       "13     เคยเป็นไหมกันไหมคะ หลังอาหารมื้อใหญ่ ต่อให้อิ่...\n",
       "20     เช้าๆบ่ายๆหรือเย็นๆ อาหารว่างที่คนเรามักหยิบจั...\n",
       "23     ระหว่างมุ่งหน้าสู่ชัยภูมิ เราแวะเติมพลังกันที่...\n",
       "29     เป็นร้านเครื่องดื่มขนาดกระทัดรัด พื้นที่น้อย เ...\n",
       "30     ร้านขายเครื่องดื่มผลิตภัณฑ์ชาเขียว ไอศรีมชาเขี...\n",
       "31     ชานมไข่มุก จริงๆคืออ้วนมาก\\nไม่ค่อยอยากกินเลย\\...\n",
       "34     เดินผ่านร้านนี้มาหลายครั้งแล้วค่ะ สังเกตว่าร้า...\n",
       "42     ร้านอยู่โซนซุ้มขายของเล็กๆตรงกลางนะคะ ใกล้ๆกับ...\n",
       "44     บนห้าง Big-C ราชดำริ นิวคุงได้ไปเจอร้านขายน้ำท...\n",
       "47     ...น่าจะใช่นะ Ochaya มีสาขาเยอะมากๆทั้งตึกออฟฟ...\n",
       "58     ร้าน April store เป็นร้านกาแฟขนาดเล็ก ตั้งอยู่...\n",
       "61     วันนี้มาเดินเที่ยวสยามคะ ถ้าชาไข่มุกอร่อยๆต้อง...\n",
       "66     ร้าน April store อยู่บริเวณสวนของ ยู เซ็นเตอร์...\n",
       "74     วันก่อนนิวคุงไปเดินเล่นหาอะไรกินในย่านหอการค้า...\n",
       "84     วันนี้ได้ฤกษ์มารีวิวร้านชานมไข่มุก ร้านที่โปรด...\n",
       "87     เป็นคนชอบทานชาไข่มุก ลองมาแล้วหลายร้าน ติดใจรส...\n",
       "90     ร้าน A Little Sweet เป็นร้านของหวานสไตล์ desse...\n",
       "93     \\n\\n\\n\\n\\nร้าน Dakasi เป็นร้านเครื่องดื่มครับ ...\n",
       "97     ร้านวโรชา เป็นร้านก๋วยเตี๋ยวเล็กๆ ที่เปิดมานาน...\n",
       "106    ร้านชานมไข่มุกร้านนี้ที่เราจะมาแนะนำมีชื่อร้าย...\n",
       "107    จากโปรโมชั่นของ openrice ทำให้ได้ลองชิมชายี่ห้...\n",
       "121    มาเดินโฮมโปร กับหลาน คุณหลานเกิดอยากดื่มชานมหว...\n",
       "122    Tea Story ร้านชานมไข่มุกกิ๊บเก๋ตั้งอยู่กลางห้า...\n",
       "131    เป็นร้านที่ตั้งอยุตรงถนนนิมมานเลย เห็นแต่ไกล ร...\n",
       "133    เล่าตอนที่ไปถึงร้าน\\nร้าน นมโจ 100% เป็นร้านขา...\n",
       "134    ของหวานฝรั่งเศสสไตล์ญี่ปุ่น เป็นอาหารที่ถูกจับ...\n",
       "137    อยากจะบอกไปตามตรงเลยว่า ร้านนี้แหล่ะร้านชานมไข...\n",
       "146    ข้อมูลที่ลงรีวิวเป็นความเห็นส่วนตัวที่ได้พบเจอ...\n",
       "148    ร้านไอศครีมน่ารักๆ เหมาะกับพาครอบครัวมานั่งทาน...\n",
       "152    เป็นร้านที่แวะเติมความหวานบ่อยมาก\\n>>Location\\...\n",
       "166    ร้านนี้เป็นแหล่งรวมเครื่องดื่มนานาชนิดทั้งนม ช...\n",
       "173    จะว่าไปผมก็ไม่ได้ทานชาไข่มุกมานานเหมือนกันครับ...\n",
       "175    ลักษณะร้าน : เป็นร้านนม ที่ขายในช่วงเวลาเย็นๆถ...\n",
       "176    เมื่อวานไปเดิน Terminal 21 ค่ะ อยากลองอะไรใหม่...\n",
       "189    ร้าน ไออุ่น ชาไข่มุก มีนํ้าปั่นหลากหลายรสชาติ ...\n",
       "190    Wawa Cha ร้านชานมไข่มุกจากไต้หวันภายใต้การบริห...\n",
       "192    [สถานที่ตั้ง]\\nThe Mall Bangkapi Fl.4 (ตรงข้าม...\n",
       "200    ร้านอยู่ Big C สุขาภิบาล 5 ติดร้าน Oriental\\nP...\n",
       "211    ร้านนี้เป็นร้านขายขนมปังปิ้งแล้วก็น้ำปั่นอยู่ห...\n",
       "219    ประโยชน์ของน้ำแตงโมปั่น\\nแตงโม มีมากมายหลายพัน...\n",
       "234    ทานชาเขียวกีวี่+ไข่มุกเป็นประจำค่ะ \\nทานกี่สาข...\n",
       "236    ร้านนี้เป็นร้านเล็กๆที่ตั้งอยู่เเถวสยาม ตรงข้า...\n",
       "238    นึกถึงชานมไข่มุกต้นตำหรับไต้หวันแท้ๆ ต้องนึกถึ...\n",
       "242    Dakasi ร้านชานมไข่มุกสูตรไต้หวันที่ตอนนี้มีสาข...\n",
       "250    นานๆ ทีจะได้มาทำธุระที่เซ็นทรัลปิ่นเกล้า เดินๆ...\n",
       "258    Fuku matcha อยู่ชั้นเดียวกับโรงหนัง sf เดอะมอล...\n",
       "271    หลายคนคงเคยได้ยินข่าวว่าทานชานมไข่มุกมากๆไม่ดี...\n",
       "287    มา Ochaya สั่งแบบเมนู basic เลย ชานมไข่มุก ราค...\n",
       "294    ร้านบ้านไร่กาแฟเป็นร้านติด BTS เอกมัย ร้านใหญ่...\n",
       "Name: Review, dtype: object"
      ]
     },
     "execution_count": 123,
     "metadata": {},
     "output_type": "execute_result"
    }
   ],
   "source": [
    "df[df[\"KMeans ID\"] == 0].Review"
   ]
  },
  {
   "cell_type": "markdown",
   "metadata": {},
   "source": [
    "### Cluster 1 : ร้านอาหาร\n",
    "คำใกล้เคียง\n",
    "-  ('ร้านอาหาร', 14)\n",
    "-  ('อร่อย', 11)\n",
    "-  ('อาหาร', 9)\n",
    "-  ('รีวิว', 7)\n",
    "-  ('บ้าน', 6)\n",
    "-  ('ส้มตำ', 6)\n",
    "-  ('ซอย', 6)\n",
    "-  ('สาขา', 6)\n",
    "-  ('เพื่อน', 5)"
   ]
  },
  {
   "cell_type": "code",
   "execution_count": 107,
   "metadata": {},
   "outputs": [
    {
     "data": {
      "text/plain": [
       "2      กวงทะเลเผา อาหารทะเลเค้าสดจริงๆเนื้อปูหวานไม่ค...\n",
       "3      วันนี้มีโอกาสตื่นเช้าครับเลยถึงโอกาสออกมาหาอะไ...\n",
       "4      ชอบมาทานร้านนี้ถ้าอยากกินอาหารเวียดนามใกล้บ้าน...\n",
       "6      สวัสดีเพื่อนๆสมาชิกนักรีวิวร้านอาหารชาว Wongna...\n",
       "9      ร้านส้มตำเจ๊พิมอยู่ถนนเลี่ยงตลาดหนองมน\\nเป็นร้...\n",
       "                             ...                        \n",
       "286    สวัสดีค่ะ ชื่อร้านนี้อาจจะน่ากลัวสักหน่อยนะคะ ...\n",
       "289    อร่อยดีครับ เพิ่งมาครั้งแรกขับรถหลงๆ มาเห็นร้า...\n",
       "291    ร้านนี้เป็นหนึ่งในความตั้งใจว่า อยากจะทำเรื่อง...\n",
       "293    ร้านนี้หาไม่ยากครับ อยู่ที่ปากซอย6 ถนนนิมมาน \\...\n",
       "295    ค่ำนี้คุณเพื่อนอยากส้มตำ หมูเฮาเลยพากันลงมากิน...\n",
       "Name: Review, Length: 118, dtype: object"
      ]
     },
     "execution_count": 107,
     "metadata": {},
     "output_type": "execute_result"
    }
   ],
   "source": [
    "df[df[\"KMeans ID\"] == 1].Review"
   ]
  },
  {
   "cell_type": "markdown",
   "metadata": {},
   "source": [
    "## Cluster 2 : ร้านชานมไข่มุก\n",
    "คำใกล้เคียง\n",
    "- ('ชา', 18)\n",
    "-  ('นม', 14)\n",
    "-  ('ไข่มุก', 14)\n",
    "-  ('เครื่องดื่ม', 4)\n",
    "-  ('รีวิว', 4)\n",
    "-  ('ร้า', 3)\n",
    "-  ('น้ำ', 3)\n",
    "-  ('ตั้งอยู่', 3)\n",
    "-  ('ลอง', 3)\n",
    "-  ('เดิน', 3)"
   ]
  },
  {
   "cell_type": "code",
   "execution_count": 108,
   "metadata": {},
   "outputs": [
    {
     "data": {
      "text/plain": [
       "13     เคยเป็นไหมกันไหมคะ หลังอาหารมื้อใหญ่ ต่อให้อิ่...\n",
       "19     ร้านกาแฟร้านนี้ เมื่อเข้าไปแล้วบรรยายกาศจะออกแ...\n",
       "20     เช้าๆบ่ายๆหรือเย็นๆ อาหารว่างที่คนเรามักหยิบจั...\n",
       "23     ระหว่างมุ่งหน้าสู่ชัยภูมิ เราแวะเติมพลังกันที่...\n",
       "29     เป็นร้านเครื่องดื่มขนาดกระทัดรัด พื้นที่น้อย เ...\n",
       "30     ร้านขายเครื่องดื่มผลิตภัณฑ์ชาเขียว ไอศรีมชาเขี...\n",
       "31     ชานมไข่มุก จริงๆคืออ้วนมาก\\nไม่ค่อยอยากกินเลย\\...\n",
       "34     เดินผ่านร้านนี้มาหลายครั้งแล้วค่ะ สังเกตว่าร้า...\n",
       "42     ร้านอยู่โซนซุ้มขายของเล็กๆตรงกลางนะคะ ใกล้ๆกับ...\n",
       "44     บนห้าง Big-C ราชดำริ นิวคุงได้ไปเจอร้านขายน้ำท...\n",
       "47     ...น่าจะใช่นะ Ochaya มีสาขาเยอะมากๆทั้งตึกออฟฟ...\n",
       "58     ร้าน April store เป็นร้านกาแฟขนาดเล็ก ตั้งอยู่...\n",
       "61     วันนี้มาเดินเที่ยวสยามคะ ถ้าชาไข่มุกอร่อยๆต้อง...\n",
       "66     ร้าน April store อยู่บริเวณสวนของ ยู เซ็นเตอร์...\n",
       "74     วันก่อนนิวคุงไปเดินเล่นหาอะไรกินในย่านหอการค้า...\n",
       "84     วันนี้ได้ฤกษ์มารีวิวร้านชานมไข่มุก ร้านที่โปรด...\n",
       "87     เป็นคนชอบทานชาไข่มุก ลองมาแล้วหลายร้าน ติดใจรส...\n",
       "90     ร้าน A Little Sweet เป็นร้านของหวานสไตล์ desse...\n",
       "93     \\n\\n\\n\\n\\nร้าน Dakasi เป็นร้านเครื่องดื่มครับ ...\n",
       "97     ร้านวโรชา เป็นร้านก๋วยเตี๋ยวเล็กๆ ที่เปิดมานาน...\n",
       "106    ร้านชานมไข่มุกร้านนี้ที่เราจะมาแนะนำมีชื่อร้าย...\n",
       "107    จากโปรโมชั่นของ openrice ทำให้ได้ลองชิมชายี่ห้...\n",
       "121    มาเดินโฮมโปร กับหลาน คุณหลานเกิดอยากดื่มชานมหว...\n",
       "122    Tea Story ร้านชานมไข่มุกกิ๊บเก๋ตั้งอยู่กลางห้า...\n",
       "131    เป็นร้านที่ตั้งอยุตรงถนนนิมมานเลย เห็นแต่ไกล ร...\n",
       "132    เครปพันชั้น! ไปมาหลายหนแล้ว แต่ไม่เคยรีวิว\\nจั...\n",
       "133    เล่าตอนที่ไปถึงร้าน\\nร้าน นมโจ 100% เป็นร้านขา...\n",
       "134    ของหวานฝรั่งเศสสไตล์ญี่ปุ่น เป็นอาหารที่ถูกจับ...\n",
       "137    อยากจะบอกไปตามตรงเลยว่า ร้านนี้แหล่ะร้านชานมไข...\n",
       "146    ข้อมูลที่ลงรีวิวเป็นความเห็นส่วนตัวที่ได้พบเจอ...\n",
       "148    ร้านไอศครีมน่ารักๆ เหมาะกับพาครอบครัวมานั่งทาน...\n",
       "152    เป็นร้านที่แวะเติมความหวานบ่อยมาก\\n>>Location\\...\n",
       "166    ร้านนี้เป็นแหล่งรวมเครื่องดื่มนานาชนิดทั้งนม ช...\n",
       "173    จะว่าไปผมก็ไม่ได้ทานชาไข่มุกมานานเหมือนกันครับ...\n",
       "175    ลักษณะร้าน : เป็นร้านนม ที่ขายในช่วงเวลาเย็นๆถ...\n",
       "176    เมื่อวานไปเดิน Terminal 21 ค่ะ อยากลองอะไรใหม่...\n",
       "189    ร้าน ไออุ่น ชาไข่มุก มีนํ้าปั่นหลากหลายรสชาติ ...\n",
       "190    Wawa Cha ร้านชานมไข่มุกจากไต้หวันภายใต้การบริห...\n",
       "192    [สถานที่ตั้ง]\\nThe Mall Bangkapi Fl.4 (ตรงข้าม...\n",
       "200    ร้านอยู่ Big C สุขาภิบาล 5 ติดร้าน Oriental\\nP...\n",
       "211    ร้านนี้เป็นร้านขายขนมปังปิ้งแล้วก็น้ำปั่นอยู่ห...\n",
       "219    ประโยชน์ของน้ำแตงโมปั่น\\nแตงโม มีมากมายหลายพัน...\n",
       "234    ทานชาเขียวกีวี่+ไข่มุกเป็นประจำค่ะ \\nทานกี่สาข...\n",
       "236    ร้านนี้เป็นร้านเล็กๆที่ตั้งอยู่เเถวสยาม ตรงข้า...\n",
       "238    นึกถึงชานมไข่มุกต้นตำหรับไต้หวันแท้ๆ ต้องนึกถึ...\n",
       "239    ร้านนี้มีรีวิวมากมายยย....เลยตามรอยเหล่านักรีว...\n",
       "242    Dakasi ร้านชานมไข่มุกสูตรไต้หวันที่ตอนนี้มีสาข...\n",
       "250    นานๆ ทีจะได้มาทำธุระที่เซ็นทรัลปิ่นเกล้า เดินๆ...\n",
       "258    Fuku matcha อยู่ชั้นเดียวกับโรงหนัง sf เดอะมอล...\n",
       "271    หลายคนคงเคยได้ยินข่าวว่าทานชานมไข่มุกมากๆไม่ดี...\n",
       "287    มา Ochaya สั่งแบบเมนู basic เลย ชานมไข่มุก ราค...\n",
       "294    ร้านบ้านไร่กาแฟเป็นร้านติด BTS เอกมัย ร้านใหญ่...\n",
       "Name: Review, dtype: object"
      ]
     },
     "execution_count": 108,
     "metadata": {},
     "output_type": "execute_result"
    }
   ],
   "source": [
    "df[df[\"KMeans ID\"] == 2].Review"
   ]
  }
 ],
 "metadata": {
  "kernelspec": {
   "display_name": "Python 3",
   "language": "python",
   "name": "python3"
  },
  "language_info": {
   "codemirror_mode": {
    "name": "ipython",
    "version": 3
   },
   "file_extension": ".py",
   "mimetype": "text/x-python",
   "name": "python",
   "nbconvert_exporter": "python",
   "pygments_lexer": "ipython3",
   "version": "3.8.3"
  }
 },
 "nbformat": 4,
 "nbformat_minor": 4
}
